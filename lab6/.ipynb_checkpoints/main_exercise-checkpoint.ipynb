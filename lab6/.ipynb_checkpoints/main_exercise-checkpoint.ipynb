{
 "cells": [
  {
   "cell_type": "code",
   "execution_count": 1,
   "metadata": {},
   "outputs": [],
   "source": [
    "# Plik excercise zawiera wynik y i dane wejściowe x1, x2 dla 40 punktów danych\n",
    "# z dalszymi 20 punktami z danymi wejściowymi, ale bez wyniku."
   ]
  },
  {
   "cell_type": "code",
   "execution_count": 1,
   "metadata": {},
   "outputs": [],
   "source": [
    "import pandas as pd\n",
    "\n",
    "data = pd.read_csv(\"exercise.csv\")"
   ]
  },
  {
   "cell_type": "code",
   "execution_count": 2,
   "metadata": {},
   "outputs": [
    {
     "name": "stdout",
     "output_type": "stream",
     "text": [
      "        y    x1     x2\n",
      "0   15.68  6.87  14.09\n",
      "1    6.18  4.40   4.35\n",
      "2   18.10  0.43  18.09\n",
      "3    9.07  2.73   8.65\n",
      "4   17.97  3.25  17.68\n",
      "5   10.04  5.30   8.53\n",
      "6   20.74  7.08  19.50\n",
      "7    9.76  9.73   0.72\n",
      "8    8.23  4.51   6.88\n",
      "9    6.52  6.40   1.26\n",
      "10  15.69  5.72  14.62\n",
      "11  15.51  6.28  14.18\n",
      "12  20.61  6.14  19.68\n",
      "13  19.58  8.26  17.75\n",
      "14   9.72  9.41   2.44\n",
      "15  16.36  2.88  16.10\n",
      "16  18.30  5.74  17.37\n",
      "17  13.26  0.45  13.25\n",
      "18  12.10  3.74  11.51\n",
      "19  18.15  5.03  17.44\n",
      "20  16.80  9.67  13.74\n",
      "21  16.55  3.62  16.15\n",
      "22  18.79  2.54  18.62\n",
      "23  15.68  9.15  12.74\n",
      "24   4.08  0.69   4.02\n",
      "25  15.45  7.97  13.24\n",
      "26  13.44  2.49  13.21\n",
      "27  20.86  9.81  18.41\n",
      "28  16.05  7.56  14.16\n",
      "29   6.00  0.98   5.92\n",
      "30   3.29  0.65   3.22\n",
      "31   9.41  9.00   2.74\n",
      "32  10.76  7.83   7.39\n",
      "33   5.98  0.26   5.97\n",
      "34  19.23  3.64  18.89\n",
      "35  15.67  9.28  12.63\n",
      "36   7.04  5.66   4.18\n",
      "37  21.63  9.71  19.32\n",
      "38  17.84  9.36  15.19\n",
      "39   7.49  0.88   7.43\n",
      "40    NaN  9.87  10.43\n",
      "41    NaN  9.99  15.72\n",
      "42    NaN  8.39   0.35\n",
      "43    NaN  0.80  10.91\n",
      "44    NaN  9.58  15.82\n",
      "45    NaN  4.82  11.90\n",
      "46    NaN  2.97   2.46\n",
      "47    NaN  8.80   4.09\n",
      "48    NaN  6.07   1.80\n",
      "49    NaN  0.19  13.54\n",
      "50    NaN  4.19  19.13\n",
      "51    NaN  5.39  14.84\n",
      "52    NaN  6.58   5.28\n",
      "53    NaN  2.36  15.42\n",
      "54    NaN  2.37   4.12\n",
      "55    NaN  1.52   6.54\n",
      "56    NaN  2.07   2.67\n",
      "57    NaN  6.70  12.85\n",
      "58    NaN  2.02   8.36\n",
      "59    NaN  9.63  12.16\n"
     ]
    }
   ],
   "source": [
    "# Show data in *.csv file\n",
    "print(data)"
   ]
  },
  {
   "cell_type": "code",
   "execution_count": 3,
   "metadata": {},
   "outputs": [
    {
     "name": "stdout",
     "output_type": "stream",
     "text": [
      "15.68 6.87 14.09\n",
      "6.18 4.4 4.35\n",
      "18.1 0.43 18.09\n",
      "9.07 2.73 8.65\n",
      "17.97 3.25 17.68\n",
      "10.04 5.3 8.53\n",
      "20.74 7.08 19.5\n",
      "9.76 9.73 0.72\n",
      "8.23 4.51 6.88\n",
      "6.52 6.4 1.26\n",
      "15.69 5.72 14.62\n",
      "15.51 6.28 14.18\n",
      "20.61 6.14 19.68\n",
      "19.58 8.26 17.75\n",
      "9.72 9.41 2.44\n",
      "16.36 2.88 16.1\n",
      "18.3 5.74 17.37\n",
      "13.26 0.45 13.25\n",
      "12.1 3.74 11.51\n",
      "18.15 5.03 17.44\n",
      "16.8 9.67 13.74\n",
      "16.55 3.62 16.15\n",
      "18.79 2.54 18.62\n",
      "15.68 9.15 12.74\n",
      "4.08 0.69 4.02\n",
      "15.45 7.97 13.24\n",
      "13.44 2.49 13.21\n",
      "20.86 9.81 18.41\n",
      "16.05 7.56 14.16\n",
      "6.0 0.98 5.92\n",
      "3.29 0.65 3.22\n",
      "9.41 9.0 2.74\n",
      "10.76 7.83 7.39\n",
      "5.98 0.26 5.97\n",
      "19.23 3.64 18.89\n",
      "15.67 9.28 12.63\n",
      "7.04 5.66 4.18\n",
      "21.63 9.71 19.32\n",
      "17.84 9.36 15.19\n",
      "7.49 0.88 7.43\n"
     ]
    }
   ],
   "source": [
    "# Shows first 39 rows od data\n",
    "for i in range (0, 40):\n",
    "    print(data['y'][i], data['x1'][i], data['x2'][i])"
   ]
  },
  {
   "cell_type": "code",
   "execution_count": 4,
   "metadata": {},
   "outputs": [],
   "source": [
    "df = pd.DataFrame(data,columns=['y','x1','x2'])\n",
    "\n",
    "# Create table with data that is known\n",
    "#print(df[:40]) #Prints first 40 rows\n",
    "known_data = df[:40]\n",
    "#print(known_data)\n",
    "\n",
    "# Create table with data that we want to predict\n",
    "#print(df[40:60]) #Prints rows with index 40, 41, ..., 58, 59\n",
    "not_known_data = df[40:60]\n",
    "#print(not_known_data)"
   ]
  },
  {
   "cell_type": "code",
   "execution_count": 5,
   "metadata": {},
   "outputs": [
    {
     "name": "stdout",
     "output_type": "stream",
     "text": [
      "                            OLS Regression Results                            \n",
      "==============================================================================\n",
      "Dep. Variable:                      y   R-squared:                       0.972\n",
      "Model:                            OLS   Adj. R-squared:                  0.971\n",
      "Method:                 Least Squares   F-statistic:                     652.4\n",
      "Date:                Sun, 08 Dec 2019   Prob (F-statistic):           1.41e-29\n",
      "Time:                        21:49:16   Log-Likelihood:                -50.985\n",
      "No. Observations:                  40   AIC:                             108.0\n",
      "Df Residuals:                      37   BIC:                             113.0\n",
      "Df Model:                           2                                         \n",
      "Covariance Type:            nonrobust                                         \n",
      "==============================================================================\n",
      "                 coef    std err          t      P>|t|      [0.025      0.975]\n",
      "------------------------------------------------------------------------------\n",
      "const          1.3151      0.388      3.392      0.002       0.530       2.101\n",
      "x1             0.5148      0.046     11.216      0.000       0.422       0.608\n",
      "x2             0.8069      0.024     33.148      0.000       0.758       0.856\n",
      "==============================================================================\n",
      "Omnibus:                       14.478   Durbin-Watson:                   2.509\n",
      "Prob(Omnibus):                  0.001   Jarque-Bera (JB):               15.393\n",
      "Skew:                           1.341   Prob(JB):                     0.000454\n",
      "Kurtosis:                       4.428   Cond. No.                         38.7\n",
      "==============================================================================\n",
      "\n",
      "Warnings:\n",
      "[1] Standard Errors assume that the covariance matrix of the errors is correctly specified.\n"
     ]
    },
    {
     "name": "stderr",
     "output_type": "stream",
     "text": [
      "/usr/lib/python3.8/site-packages/numpy/core/fromnumeric.py:2495: FutureWarning: Method .ptp is deprecated and will be removed in a future version. Use numpy.ptp instead.\n",
      "  return ptp(axis=axis, out=out, **kwargs)\n"
     ]
    }
   ],
   "source": [
    "import statsmodels.api as sm\n",
    "\n",
    "X = known_data[['x1','x2']]\n",
    "Y = known_data['y']\n",
    "X = sm.add_constant(X) # adding a constant\n",
    "model = sm.OLS(Y, X).fit()\n",
    "predictions = model.predict(X)\n",
    "    \n",
    "print_model = model.summary()\n",
    "print(print_model)"
   ]
  },
  {
   "cell_type": "code",
   "execution_count": 6,
   "metadata": {},
   "outputs": [
    {
     "name": "stdout",
     "output_type": "stream",
     "text": [
      "40    14.812143\n",
      "41    19.142420\n",
      "42     5.916687\n",
      "43    10.530219\n",
      "44    19.012042\n",
      "45    13.398546\n",
      "46     4.829030\n",
      "47     9.145561\n",
      "48     5.892356\n",
      "49    12.338338\n",
      "50    18.908109\n",
      "51    16.064268\n",
      "52     8.962916\n",
      "53    14.972426\n",
      "54     5.859604\n",
      "55     7.374722\n",
      "56     4.535159\n",
      "57    15.132925\n",
      "58     9.100680\n",
      "59    16.084528\n",
      "dtype: float64\n"
     ]
    }
   ],
   "source": [
    "# Variables taken from model above\n",
    "const_coef = 1.3151\n",
    "x1_coef = 0.5148\n",
    "x2_coef = 0.8069\n",
    "\n",
    "# We know X1 and X2 and want to predict Y\n",
    "X1 = not_known_data['x1']\n",
    "X2 = not_known_data['x2']\n",
    "\n",
    "for row in not_known_data:\n",
    "    predicted_y = (const_coef) + (x1_coef)*X1 + (x2_coef)*X2\n",
    "\n",
    "print(predicted_y)"
   ]
  },
  {
   "cell_type": "code",
   "execution_count": 7,
   "metadata": {},
   "outputs": [
    {
     "ename": "ModuleNotFoundError",
     "evalue": "No module named 'plotly'",
     "output_type": "error",
     "traceback": [
      "\u001b[0;31m---------------------------------------------------------------------------\u001b[0m",
      "\u001b[0;31mModuleNotFoundError\u001b[0m                       Traceback (most recent call last)",
      "\u001b[0;32m<ipython-input-7-533e00a6b8fa>\u001b[0m in \u001b[0;36m<module>\u001b[0;34m\u001b[0m\n\u001b[1;32m      1\u001b[0m \u001b[0;31m#PLOTLY EXPRESS\u001b[0m\u001b[0;34m\u001b[0m\u001b[0;34m\u001b[0m\u001b[0;34m\u001b[0m\u001b[0m\n\u001b[0;32m----> 2\u001b[0;31m \u001b[0;32mimport\u001b[0m \u001b[0mplotly\u001b[0m\u001b[0;34m.\u001b[0m\u001b[0mexpress\u001b[0m \u001b[0;32mas\u001b[0m \u001b[0mpx\u001b[0m\u001b[0;34m\u001b[0m\u001b[0;34m\u001b[0m\u001b[0m\n\u001b[0m\u001b[1;32m      3\u001b[0m \u001b[0;34m\u001b[0m\u001b[0m\n\u001b[1;32m      4\u001b[0m \u001b[0mfig\u001b[0m \u001b[0;34m=\u001b[0m \u001b[0mpx\u001b[0m\u001b[0;34m.\u001b[0m\u001b[0mscatter\u001b[0m\u001b[0;34m(\u001b[0m\u001b[0mdata\u001b[0m\u001b[0;34m,\u001b[0m \u001b[0mx\u001b[0m\u001b[0;34m=\u001b[0m\u001b[0;34m\"x1\"\u001b[0m\u001b[0;34m,\u001b[0m \u001b[0my\u001b[0m\u001b[0;34m=\u001b[0m\u001b[0;34m\"y\"\u001b[0m\u001b[0;34m,\u001b[0m\u001b[0mheight\u001b[0m\u001b[0;34m=\u001b[0m\u001b[0;36m400\u001b[0m\u001b[0;34m,\u001b[0m \u001b[0mtitle\u001b[0m\u001b[0;34m=\u001b[0m\u001b[0;34m\"y\"\u001b[0m\u001b[0;34m)\u001b[0m\u001b[0;34m\u001b[0m\u001b[0;34m\u001b[0m\u001b[0m\n\u001b[1;32m      5\u001b[0m \u001b[0mfig\u001b[0m\u001b[0;34m.\u001b[0m\u001b[0mshow\u001b[0m\u001b[0;34m(\u001b[0m\u001b[0;34m)\u001b[0m\u001b[0;34m\u001b[0m\u001b[0;34m\u001b[0m\u001b[0m\n",
      "\u001b[0;31mModuleNotFoundError\u001b[0m: No module named 'plotly'"
     ]
    }
   ],
   "source": [
    "#PLOTLY EXPRESS\n",
    "import plotly.express as px\n",
    "\n",
    "fig = px.scatter(data, x=\"x1\", y=\"y\",height=400, title=\"y\")\n",
    "fig.show()"
   ]
  },
  {
   "cell_type": "code",
   "execution_count": 8,
   "metadata": {},
   "outputs": [
    {
     "ename": "NameError",
     "evalue": "name 'px' is not defined",
     "output_type": "error",
     "traceback": [
      "\u001b[0;31m---------------------------------------------------------------------------\u001b[0m",
      "\u001b[0;31mNameError\u001b[0m                                 Traceback (most recent call last)",
      "\u001b[0;32m<ipython-input-8-f62cb48ed441>\u001b[0m in \u001b[0;36m<module>\u001b[0;34m\u001b[0m\n\u001b[0;32m----> 1\u001b[0;31m \u001b[0mfig\u001b[0m \u001b[0;34m=\u001b[0m \u001b[0mpx\u001b[0m\u001b[0;34m.\u001b[0m\u001b[0mscatter\u001b[0m\u001b[0;34m(\u001b[0m\u001b[0mdata\u001b[0m\u001b[0;34m,\u001b[0m \u001b[0mx\u001b[0m\u001b[0;34m=\u001b[0m\u001b[0;34m\"x2\"\u001b[0m\u001b[0;34m,\u001b[0m \u001b[0my\u001b[0m\u001b[0;34m=\u001b[0m\u001b[0;34m\"y\"\u001b[0m\u001b[0;34m,\u001b[0m\u001b[0mheight\u001b[0m\u001b[0;34m=\u001b[0m\u001b[0;36m400\u001b[0m\u001b[0;34m,\u001b[0m \u001b[0mtitle\u001b[0m\u001b[0;34m=\u001b[0m\u001b[0;34m\"y\"\u001b[0m\u001b[0;34m)\u001b[0m\u001b[0;34m\u001b[0m\u001b[0;34m\u001b[0m\u001b[0m\n\u001b[0m\u001b[1;32m      2\u001b[0m \u001b[0mfig\u001b[0m\u001b[0;34m.\u001b[0m\u001b[0mshow\u001b[0m\u001b[0;34m(\u001b[0m\u001b[0;34m)\u001b[0m\u001b[0;34m\u001b[0m\u001b[0;34m\u001b[0m\u001b[0m\n",
      "\u001b[0;31mNameError\u001b[0m: name 'px' is not defined"
     ]
    }
   ],
   "source": [
    "fig = px.scatter(data, x=\"x2\", y=\"y\",height=400, title=\"y\")\n",
    "fig.show()"
   ]
  },
  {
   "cell_type": "code",
   "execution_count": 10,
   "metadata": {},
   "outputs": [
    {
     "data": {
      "image/png": "[encoded data removed]",
      "text/plain": [
       "<Figure size 432x288 with 1 Axes>"
      ]
     },
     "metadata": {},
     "output_type": "display_data"
    }
   ],
   "source": [
    "import matplotlib.pyplot as plt\n",
    "import numpy as np\n",
    "import seaborn as sns\n",
    "#Without this line plot appers in figure\n",
    "%matplotlib inline\n",
    "\n",
    "sns.set(style=\"whitegrid\")\n",
    "\n",
    "# Plot the residuals after fitting a linear model\n",
    "sns.residplot(known_data['x1'], known_data['y'], lowess=True, color=\"g\")\n",
    "plt.show()"
   ]
  },
  {
   "cell_type": "code",
   "execution_count": 11,
   "metadata": {},
   "outputs": [
    {
     "data": {
      "image/png": "[encoded data removed]",
      "text/plain": [
       "<Figure size 432x288 with 1 Axes>"
      ]
     },
     "metadata": {
      "needs_background": "light"
     },
     "output_type": "display_data"
    }
   ],
   "source": [
    "# Plot the residuals after fitting a linear model\n",
    "sns.residplot(known_data['x2'], known_data['y'], lowess=True, color=\"g\")\n",
    "plt.show()"
   ]
  }
 ],
 "metadata": {
  "kernelspec": {
   "display_name": "Python 3",
   "language": "python",
   "name": "python3"
  },
  "language_info": {
   "codemirror_mode": {
    "name": "ipython",
    "version": 3
   },
   "file_extension": ".py",
   "mimetype": "text/x-python",
   "name": "python",
   "nbconvert_exporter": "python",
   "pygments_lexer": "ipython3",
   "version": "3.8.0"
  }
 },
 "nbformat": 4,
 "nbformat_minor": 4
}
