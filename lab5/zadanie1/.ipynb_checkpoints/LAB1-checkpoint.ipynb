{
 "cells": [
  {
   "cell_type": "code",
   "execution_count": 1,
   "metadata": {},
   "outputs": [],
   "source": [
    "import pandas as pd\n",
    "from io import StringIO\n",
    "import operator\n",
    "\n",
    "columns = ['id', 'year', 'month', 'element', *[str(i).zfill(2) for i in range (1, 32)]]\n",
    "\n",
    "with open('weather.txt') as weathertxt, open('weather.csv', 'w') as weathercsv:\n",
    "    csv = []\n",
    "    for line in weathertxt.readlines():\n",
    "        newline = line[:11] + ', ' + line[11:15] + ',' +  line[15:17] + ',' + line[17:21] + ', ' + line[21:].strip('\\n')\n",
    "        newline = newline.replace('S', ',')\n",
    "        newline = newline.replace('I ', ', ')\n",
    "        newline = newline.replace(' I', '')\n",
    "        newline = newline.replace('-9999', ',')\n",
    "        newline.strip(',')\n",
    "        csv.append(newline)\n",
    "\n",
    "    csv = '\\n'.join(csv)\n",
    "    weathercsv.write(csv)"
   ]
  },
  {
   "cell_type": "code",
   "execution_count": 2,
   "metadata": {},
   "outputs": [],
   "source": [
    "df = pd.read_csv(StringIO(csv), header=None, sep=',', error_bad_lines=False, warn_bad_lines=False, names=columns)"
   ]
  },
  {
   "cell_type": "code",
   "execution_count": 3,
   "metadata": {},
   "outputs": [],
   "source": [
    "df = pd.melt(df, id_vars=['id', 'year', 'month', 'element'], value_vars=[str(i) .zfill(2) for i in range (1, 32)])"
   ]
  },
  {
   "cell_type": "code",
   "execution_count": 4,
   "metadata": {},
   "outputs": [],
   "source": [
    "df['year'] = df['year'].astype(str) + '-'\n",
    "df['month'] = df['month'].astype(str) + '-'  \n",
    "df['month'] = df['month'].apply(lambda x: '{0:0>3}'.format(x))\n",
    "df['date'] = df['year'] + df['month'] + df['variable']\n",
    "df.drop('year', axis=1, inplace=True)\n",
    "df.drop('month', axis=1, inplace=True)\n",
    "df.drop('variable', axis=1, inplace=True)"
   ]
  },
  {
   "cell_type": "code",
   "execution_count": 5,
   "metadata": {},
   "outputs": [],
   "source": [
    "pd.options.mode.chained_assignment = None\n",
    "lookup = df.drop_duplicates('date')\n",
    "lookup.drop('element', axis=1, inplace=True)\n",
    "lookup.drop('value', axis=1, inplace=True)\n",
    "lookup.set_index(['date'], inplace=True, drop=False)"
   ]
  },
  {
   "cell_type": "code",
   "execution_count": 6,
   "metadata": {
    "scrolled": true
   },
   "outputs": [],
   "source": [
    "df = df.pivot(columns='element', values='value', index='date')\n",
    "df = df.join(lookup)"
   ]
  },
  {
   "cell_type": "code",
   "execution_count": 7,
   "metadata": {},
   "outputs": [],
   "source": [
    "df = df.reset_index(drop=True)\n",
    "df.sort_values(by=[\"date\"], inplace=True)"
   ]
  },
  {
   "cell_type": "code",
   "execution_count": 8,
   "metadata": {},
   "outputs": [],
   "source": [
    "df.to_csv('tidy.csv', sep=',', index=False)"
   ]
  },
  {
   "cell_type": "code",
   "execution_count": null,
   "metadata": {},
   "outputs": [],
   "source": []
  }
 ],
 "metadata": {
  "kernelspec": {
   "display_name": "Python 3",
   "language": "python",
   "name": "python3"
  },
  "language_info": {
   "codemirror_mode": {
    "name": "ipython",
    "version": 3
   },
   "file_extension": ".py",
   "mimetype": "text/x-python",
   "name": "python",
   "nbconvert_exporter": "python",
   "pygments_lexer": "ipython3",
   "version": "3.7.4"
  }
 },
 "nbformat": 4,
 "nbformat_minor": 2
}
